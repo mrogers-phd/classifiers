{
 "cells": [
  {
   "cell_type": "markdown",
   "metadata": {},
   "source": [
    "# Simple classifier comparison\n",
    "The cells below illustrate the behavior of several different classifiers using three different kinds of 2-dimensional data sets.  The code has been shamelessly copied from the [scikit-learn website](https://scikit-learn.org/stable/auto_examples/classification/plot_classifier_comparison.html).  In addition to excellent demonstration scripts such as this one, the scikit-learn site also provides nice summaries for each of the models explored here.\n",
    " \n",
    "## Model codes\n",
    "To make the command-line interface easy to use, the script uses codes to identify each type of classification model.  These are `K, L, R, P, D, F, N, A, B, Q` and `G`.  Run the following cell to see how they map to classifier models:"
   ]
  },
  {
   "cell_type": "code",
   "execution_count": null,
   "metadata": {},
   "outputs": [],
   "source": [
    "from comparison_utils import *\n",
    "\n",
    "# Show the models available:\n",
    "for c in MODEL_CODES:\n",
    "    print('  {} = {}'.format(c, MODEL_NAME[c]))"
   ]
  },
  {
   "cell_type": "code",
   "execution_count": null,
   "metadata": {},
   "outputs": [],
   "source": [
    "# To keep things manageable for the first run, we restrict our set to just five classifiers:\n",
    "# k-nearest-neighbors (k-NN), linear SVM, decision tree, random forest (RF) and naive bayes.\n",
    "# Once you've run all cells through at least once, try some other codes from the list above\n",
    "# to see how they perform.  As you learn more about the models themselves, try to figure out\n",
    "# why some perform better than others.\n",
    "# All codes: KLRPDFNABQG\n",
    "selected_codes = 'KLDFB'\n",
    "selected_models = [MODEL_NAME[c] for c in selected_codes]\n",
    "\n",
    "# Set up the classifiers\n",
    "classifiers = {}\n",
    "for name in selected_models:\n",
    "    print('  instantiating {}'.format(name))\n",
    "    classifiers[name] = model_factory(name)"
   ]
  },
  {
   "cell_type": "markdown",
   "metadata": {},
   "source": [
    "## Simulated data\n",
    "The following cell generates three different kinds of 2-dimensional data sets:\n",
    " 1. **linearly separable** data: should be easy for most classifiers if there are minimal overlaps between the classes\n",
    " 2. **overlapping crescents**: should be difficult for any strictly linear models but feasible for many others\n",
    " 3. **concentric circles**: pretty much impossible for strictly linear models, but other models fare better\n"
   ]
  },
  {
   "cell_type": "code",
   "execution_count": null,
   "metadata": {},
   "outputs": [],
   "source": [
    "# Generate three datasets for testing with 100 data points each (random seed 1)\n",
    "# Try using different dataset sizes too: 10, 1000, ... but beware that large\n",
    "# datasets will take longer to train, test and render.\n",
    "datasets = generate_datasets(100, 1)\n",
    "\n",
    "print('Created the following datasets:')\n",
    "for name in datasets:\n",
    "    print('  {}'.format(name))"
   ]
  },
  {
   "cell_type": "markdown",
   "metadata": {},
   "source": [
    "## Testing the classifiers\n",
    "This final cell runs each of the classifiers selected above on the three datasets.\n",
    "Each time, it will train the model on a subset of the data and test the model on remaining data.\n",
    "It will also produce a scatter plot showing the test data as a scatter plot, along with contours\n",
    "that depict the decision boundaries for the model."
   ]
  },
  {
   "cell_type": "code",
   "execution_count": null,
   "metadata": {},
   "outputs": [],
   "source": [
    "# This is really the meat of the script: it runs all the classifiers and renders their results.\n",
    "# The final output will not appear until all classifiers have been trained and tested on all\n",
    "# data sets.  If you use a large number of classifiers and a large dataset, you can expect to wait\n",
    "# several minutes or more to see results.  For this reason we have verbose turned on.\n",
    "compare_classifiers(datasets, classifiers, 1, output=None, verbose=True)"
   ]
  },
  {
   "cell_type": "code",
   "execution_count": null,
   "metadata": {},
   "outputs": [],
   "source": []
  }
 ],
 "metadata": {
  "kernelspec": {
   "display_name": "Python 3",
   "language": "python",
   "name": "python3"
  },
  "language_info": {
   "codemirror_mode": {
    "name": "ipython",
    "version": 3
   },
   "file_extension": ".py",
   "mimetype": "text/x-python",
   "name": "python",
   "nbconvert_exporter": "python",
   "pygments_lexer": "ipython3",
   "version": "3.8.10"
  }
 },
 "nbformat": 4,
 "nbformat_minor": 4
}
