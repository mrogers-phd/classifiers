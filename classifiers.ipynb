{
 "cells": [
  {
   "cell_type": "markdown",
   "metadata": {},
   "source": [
    "# Playing with classifiers\n"
   ]
  },
  {
   "cell_type": "code",
   "execution_count": null,
   "metadata": {},
   "outputs": [],
   "source": [
    "from comparison_utils import *\n",
    "\n",
    "# Show the models available:\n",
    "for c in MODEL_CODES:\n",
    "    print('  {} = {}'.format(c, MODEL_NAME[c]))"
   ]
  },
  {
   "cell_type": "code",
   "execution_count": null,
   "metadata": {},
   "outputs": [],
   "source": [
    "# Select all available models:\n",
    "#selected_models = [MODEL_NAME[c] for c in MODEL_CODES]\n",
    "# Select just a few to keep processing fast and the output small:\n",
    "selected_models = [MODEL_NAME[c] for c in 'KLDFB']\n",
    "\n",
    "# Set up the classifiers\n",
    "classifiers = {}\n",
    "for name in selected_models:\n",
    "    classifiers[name] = model_factory(name)"
   ]
  },
  {
   "cell_type": "code",
   "execution_count": null,
   "metadata": {},
   "outputs": [],
   "source": [
    "# Generate three datasets for testing with 100 data points each (random seed 1)\n",
    "datasets = generate_datasets(100, 1)"
   ]
  },
  {
   "cell_type": "code",
   "execution_count": null,
   "metadata": {},
   "outputs": [],
   "source": [
    "# Run the classifiers and render their results\n",
    "compare_classifiers(datasets, classifiers, 1, None, True)"
   ]
  },
  {
   "cell_type": "code",
   "execution_count": null,
   "metadata": {},
   "outputs": [],
   "source": []
  }
 ],
 "metadata": {
  "kernelspec": {
   "display_name": "Python 3",
   "language": "python",
   "name": "python3"
  },
  "language_info": {
   "codemirror_mode": {
    "name": "ipython",
    "version": 3
   },
   "file_extension": ".py",
   "mimetype": "text/x-python",
   "name": "python",
   "nbconvert_exporter": "python",
   "pygments_lexer": "ipython3",
   "version": "3.8.10"
  }
 },
 "nbformat": 4,
 "nbformat_minor": 4
}
