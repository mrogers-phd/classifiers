{
 "cells": [
  {
   "cell_type": "markdown",
   "metadata": {},
   "source": [
    "# High-dimensional data\n",
    "This notebook explores how different models are likely to behave on higher dimensional data.  It makes use of the script `bin/test_classifiers.py` and the functions and classes defined in `shared/sklearn_utils.py`.  It uses single-character model codes to identify the distinct classifier models being used.\n",
    "\n",
    "Run the cell below to see how the codes map to models:"
   ]
  },
  {
   "cell_type": "code",
   "execution_count": null,
   "metadata": {},
   "outputs": [],
   "source": [
    "from sklearn_utils import MODEL_CODES, MODEL_NAME\n",
    "\n",
    "for c in MODEL_CODES:\n",
    "    print('  {} = {}'.format(c, MODEL_NAME[c]))"
   ]
  },
  {
   "cell_type": "markdown",
   "metadata": {},
   "source": [
    "## The data sets\n",
    "There are several data sets we will use in this demonstration.  All of the datasets contain labels and features we can use to train and test models.  The files use the comma-separated value format as follows:\n",
    "```\n",
    "<label>,<feature 1>,<feature 2>, ..., <feature n>\n",
    "```\n",
    "\n",
    "Run the code below to see what files are available:"
   ]
  },
  {
   "cell_type": "code",
   "execution_count": null,
   "metadata": {},
   "outputs": [],
   "source": [
    "!ls -1 data/*.csv"
   ]
  },
  {
   "cell_type": "markdown",
   "metadata": {},
   "source": [
    "Two of these data sets, `group_1_46-way.csv` and `group_2_100-way.csv`, contain eight features each.  These are _conservation scores_ that measure how well a single-nucleotide variant (SNV) is conserved across 46 species or 100 species.  Ordinarily we would also have metadata for each entry in these files to show the chromosome, position, reference allele and mutant allele associated with the data.  However we do not need it for training and testing our classifiers.  For more information on these and other features one can use in this problem domain, please see [Shihab et al. (2015)](https://academic.oup.com/bioinformatics/article/31/10/1536/177080).\n",
    "\n",
    "By default, the `test_classifiers.py` script uses a gradient boosting classifier to run tests.  This model is generally reliable and competitive with other models on many problems.  In addition, it is generally resistant to _overfitting_ and can be trained and tested relatively quickly.  However, in this demonstration we want to compare several models, so we begin with three popular ones: logistic regression, gradient boosting and an SVM with a radial basis function (gaussian kernel).\n",
    "\n",
    "Please note that even this relatively simple experiment may take several seconds to run:"
   ]
  },
  {
   "cell_type": "code",
   "execution_count": null,
   "metadata": {},
   "outputs": [],
   "source": [
    "!bin/test_classifiers.py data/group_1_46-way.csv -m OGR -v"
   ]
  },
  {
   "cell_type": "code",
   "execution_count": null,
   "metadata": {},
   "outputs": [],
   "source": []
  }
 ],
 "metadata": {
  "kernelspec": {
   "display_name": "Python 3",
   "language": "python",
   "name": "python3"
  },
  "language_info": {
   "codemirror_mode": {
    "name": "ipython",
    "version": 3
   },
   "file_extension": ".py",
   "mimetype": "text/x-python",
   "name": "python",
   "nbconvert_exporter": "python",
   "pygments_lexer": "ipython3",
   "version": "3.8.10"
  }
 },
 "nbformat": 4,
 "nbformat_minor": 4
}
